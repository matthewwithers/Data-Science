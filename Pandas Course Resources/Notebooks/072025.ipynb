{
 "cells": [
  {
   "cell_type": "code",
   "execution_count": null,
   "id": "cf053560",
   "metadata": {},
   "outputs": [
    {
     "data": {
      "text/plain": [
       "'2.3.1'"
      ]
     },
     "execution_count": 4,
     "metadata": {},
     "output_type": "execute_result"
    }
   ],
   "source": [
    "# Pandas Series\n",
    "# values\n",
    "# index\n",
    "# name\n",
    "# dtype\n",
    "\n",
    "import pandas as pd\n",
    "import numpy as np\n",
    "pd.__version__"
   ]
  },
  {
   "cell_type": "code",
   "execution_count": 15,
   "id": "3710267a",
   "metadata": {},
   "outputs": [
    {
     "data": {
      "text/plain": [
       "0    0\n",
       "1    1\n",
       "2    2\n",
       "3    3\n",
       "4    4\n",
       "Name: Hello World, dtype: int64"
      ]
     },
     "execution_count": 15,
     "metadata": {},
     "output_type": "execute_result"
    }
   ],
   "source": [
    "array = np.arange(5)\n",
    "array\n",
    "\n",
    "pd.Series(array, name=\"Hello World\")"
   ]
  },
  {
   "cell_type": "code",
   "execution_count": null,
   "id": "7c50839f",
   "metadata": {},
   "outputs": [
    {
     "data": {
      "text/plain": [
       "array([0, 1, 2, 3, 4, 5])"
      ]
     },
     "execution_count": 26,
     "metadata": {},
     "output_type": "execute_result"
    }
   ],
   "source": [
    "# pd.Series(np.arange(6).reshape(3,2))\n",
    "series = pd.Series(np.arange(6))\n",
    "series.values"
   ]
  },
  {
   "cell_type": "code",
   "execution_count": 27,
   "id": "0ce3e42b",
   "metadata": {},
   "outputs": [
    {
     "data": {
      "text/plain": [
       "np.int64(5)"
      ]
     },
     "execution_count": 27,
     "metadata": {},
     "output_type": "execute_result"
    }
   ],
   "source": [
    "series.values.max()"
   ]
  },
  {
   "cell_type": "code",
   "execution_count": 31,
   "id": "5771e7af",
   "metadata": {},
   "outputs": [
    {
     "data": {
      "text/plain": [
       "10    0\n",
       "20    1\n",
       "30    2\n",
       "40    3\n",
       "50    4\n",
       "60    5\n",
       "dtype: int64"
      ]
     },
     "execution_count": 31,
     "metadata": {},
     "output_type": "execute_result"
    }
   ],
   "source": [
    "series.index = [10, 20, 30, 40, 50, 60]\n",
    "series"
   ]
  },
  {
   "cell_type": "code",
   "execution_count": 33,
   "id": "bbe1f707",
   "metadata": {},
   "outputs": [],
   "source": [
    "# Pandas data types\n",
    "    # bool (boolean true/false)\n",
    "    # int64 (whole number)\n",
    "    # float64 (decimal)\n",
    "    # boolean (nullable)\n",
    "    # object\n",
    "    # datetime64\n",
    "    # time delta\n",
    "    # period"
   ]
  },
  {
   "cell_type": "code",
   "execution_count": 37,
   "id": "8f767dc1",
   "metadata": {},
   "outputs": [
    {
     "data": {
      "text/plain": [
       "dtype('float64')"
      ]
     },
     "execution_count": 37,
     "metadata": {},
     "output_type": "execute_result"
    }
   ],
   "source": [
    "sales_series = pd.Series([1,2,3])\n",
    "sales_series = pd.Series([1, 2, 3]).astype('float')\n",
    "\n",
    "sales_series.dtype"
   ]
  },
  {
   "cell_type": "code",
   "execution_count": 38,
   "id": "ceb94ad6",
   "metadata": {},
   "outputs": [
    {
     "data": {
      "text/plain": [
       "0    1.0\n",
       "1    2.0\n",
       "2    3.0\n",
       "dtype: float64"
      ]
     },
     "execution_count": 38,
     "metadata": {},
     "output_type": "execute_result"
    }
   ],
   "source": [
    "sales_series"
   ]
  },
  {
   "cell_type": "code",
   "execution_count": 41,
   "id": "4466464c",
   "metadata": {},
   "outputs": [
    {
     "data": {
      "text/plain": [
       "0    False\n",
       "1     True\n",
       "2     True\n",
       "3     True\n",
       "4     True\n",
       "dtype: bool"
      ]
     },
     "execution_count": 41,
     "metadata": {},
     "output_type": "execute_result"
    }
   ],
   "source": [
    "pd.Series(range(5)).astype('bool')"
   ]
  },
  {
   "cell_type": "code",
   "execution_count": null,
   "id": "75da7ebb",
   "metadata": {},
   "outputs": [],
   "source": []
  }
 ],
 "metadata": {
  "kernelspec": {
   "display_name": "Python 3",
   "language": "python",
   "name": "python3"
  },
  "language_info": {
   "codemirror_mode": {
    "name": "ipython",
    "version": 3
   },
   "file_extension": ".py",
   "mimetype": "text/x-python",
   "name": "python",
   "nbconvert_exporter": "python",
   "pygments_lexer": "ipython3",
   "version": "3.9.6"
  }
 },
 "nbformat": 4,
 "nbformat_minor": 5
}
