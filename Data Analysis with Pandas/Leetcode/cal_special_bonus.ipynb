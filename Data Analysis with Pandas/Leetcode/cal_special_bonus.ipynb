{
 "cells": [
  {
   "cell_type": "code",
   "execution_count": null,
   "id": "e88769fe",
   "metadata": {},
   "outputs": [],
   "source": [
    "# Calculate Special Bonus\n",
    "\n",
    "# +-------------+---------+\n",
    "# | Column Name | Type    |\n",
    "# +-------------+---------+\n",
    "# | employee_id | int     |\n",
    "# | name        | varchar |\n",
    "# | salary      | int     |\n",
    "# +-------------+---------+\n",
    "# employee_id is the primary key (column with unique values) for this table.\n",
    "# Each row of this table indicates the employee ID, employee name, and salary.\n",
    "# Write a solution to calculate the bonus of each employee. The bonus of an employee is 100% of their salary if the ID of the employee is an odd number and the employee's name does not start with the character 'M'. The bonus of an employee is 0 otherwise.\n",
    "# Return the result table ordered by employee_id.\n",
    "\n",
    "import pandas as pd\n",
    "\n",
    "\n",
    "def calculate_special_bonus(employees: pd.DataFrame) -> pd.DataFrame:\n",
    "\n",
    "    def sal_eval(row):\n",
    "        if row.loc[\"employee_id\"] % 2 != 0 and not row.loc[\"name\"].startswith(\"M\"):\n",
    "            return row.loc[\"salary\"]\n",
    "        else:\n",
    "            return 0\n",
    "    employees[\"bonus\"] = employees.apply(sal_eval, axis=\"columns\")\n",
    "\n",
    "    return employees[[\"employee_id\", \"bonus\"]].sort_values(\"employee_id\")"
   ]
  },
  {
   "cell_type": "code",
   "execution_count": null,
   "id": "850a8fdc",
   "metadata": {},
   "outputs": [],
   "source": []
  }
 ],
 "metadata": {
  "language_info": {
   "name": "python"
  }
 },
 "nbformat": 4,
 "nbformat_minor": 5
}
