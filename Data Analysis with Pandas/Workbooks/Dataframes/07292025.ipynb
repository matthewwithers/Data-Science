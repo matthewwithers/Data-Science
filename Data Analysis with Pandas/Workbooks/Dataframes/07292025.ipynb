{
 "cells": [
  {
   "cell_type": "code",
   "execution_count": 1,
   "id": "3e133a21",
   "metadata": {},
   "outputs": [],
   "source": [
    "import pandas as pd"
   ]
  },
  {
   "cell_type": "code",
   "execution_count": null,
   "id": "3fd0c291",
   "metadata": {},
   "outputs": [
    {
     "data": {
      "text/html": [
       "<div>\n",
       "<style scoped>\n",
       "    .dataframe tbody tr th:only-of-type {\n",
       "        vertical-align: middle;\n",
       "    }\n",
       "\n",
       "    .dataframe tbody tr th {\n",
       "        vertical-align: top;\n",
       "    }\n",
       "\n",
       "    .dataframe thead th {\n",
       "        text-align: right;\n",
       "    }\n",
       "</style>\n",
       "<table border=\"1\" class=\"dataframe\">\n",
       "  <thead>\n",
       "    <tr style=\"text-align: right;\">\n",
       "      <th></th>\n",
       "      <th>Name</th>\n",
       "      <th>Team</th>\n",
       "      <th>Position</th>\n",
       "      <th>Height</th>\n",
       "      <th>Weight</th>\n",
       "      <th>College</th>\n",
       "      <th>Salary</th>\n",
       "    </tr>\n",
       "  </thead>\n",
       "  <tbody>\n",
       "    <tr>\n",
       "      <th>23</th>\n",
       "      <td>Blake Griffin</td>\n",
       "      <td>Boston Celtics</td>\n",
       "      <td>F</td>\n",
       "      <td>6-9</td>\n",
       "      <td>250.0</td>\n",
       "      <td>Oklahoma</td>\n",
       "      <td>0.0</td>\n",
       "    </tr>\n",
       "    <tr>\n",
       "      <th>26</th>\n",
       "      <td>Mfiondu Kabengele</td>\n",
       "      <td>Boston Celtics</td>\n",
       "      <td>C</td>\n",
       "      <td>6-10</td>\n",
       "      <td>250.0</td>\n",
       "      <td>Florida State</td>\n",
       "      <td>0.0</td>\n",
       "    </tr>\n",
       "    <tr>\n",
       "      <th>28</th>\n",
       "      <td>Svi Mykhailiuk</td>\n",
       "      <td>Boston Celtics</td>\n",
       "      <td>G-F</td>\n",
       "      <td>6-7</td>\n",
       "      <td>205.0</td>\n",
       "      <td>Kansas</td>\n",
       "      <td>0.0</td>\n",
       "    </tr>\n",
       "    <tr>\n",
       "      <th>35</th>\n",
       "      <td>Robert Williams III</td>\n",
       "      <td>Boston Celtics</td>\n",
       "      <td>C-F</td>\n",
       "      <td>6-9</td>\n",
       "      <td>237.0</td>\n",
       "      <td>Texas A&amp;M</td>\n",
       "      <td>0.0</td>\n",
       "    </tr>\n",
       "    <tr>\n",
       "      <th>39</th>\n",
       "      <td>Nic Claxton</td>\n",
       "      <td>Brooklyn Nets</td>\n",
       "      <td>C</td>\n",
       "      <td>6-11</td>\n",
       "      <td>215.0</td>\n",
       "      <td>Georgia</td>\n",
       "      <td>0.0</td>\n",
       "    </tr>\n",
       "    <tr>\n",
       "      <th>...</th>\n",
       "      <td>...</td>\n",
       "      <td>...</td>\n",
       "      <td>...</td>\n",
       "      <td>...</td>\n",
       "      <td>...</td>\n",
       "      <td>...</td>\n",
       "      <td>...</td>\n",
       "    </tr>\n",
       "    <tr>\n",
       "      <th>547</th>\n",
       "      <td>Gary Trent Jr.</td>\n",
       "      <td>Toronto Raptors</td>\n",
       "      <td>G-F</td>\n",
       "      <td>6-5</td>\n",
       "      <td>209.0</td>\n",
       "      <td>Duke</td>\n",
       "      <td>0.0</td>\n",
       "    </tr>\n",
       "    <tr>\n",
       "      <th>578</th>\n",
       "      <td>Taj Gibson</td>\n",
       "      <td>Washington Wizards</td>\n",
       "      <td>F</td>\n",
       "      <td>6-9</td>\n",
       "      <td>232.0</td>\n",
       "      <td>Southern California</td>\n",
       "      <td>0.0</td>\n",
       "    </tr>\n",
       "    <tr>\n",
       "      <th>584</th>\n",
       "      <td>Kendrick Nunn</td>\n",
       "      <td>Washington Wizards</td>\n",
       "      <td>G</td>\n",
       "      <td>6-3</td>\n",
       "      <td>190.0</td>\n",
       "      <td>Oakland</td>\n",
       "      <td>0.0</td>\n",
       "    </tr>\n",
       "    <tr>\n",
       "      <th>589</th>\n",
       "      <td>Tristan Vukcevic</td>\n",
       "      <td>Washington Wizards</td>\n",
       "      <td>F</td>\n",
       "      <td>6-10</td>\n",
       "      <td>220.0</td>\n",
       "      <td>Real Madrid</td>\n",
       "      <td>0.0</td>\n",
       "    </tr>\n",
       "    <tr>\n",
       "      <th>591</th>\n",
       "      <td>NaN</td>\n",
       "      <td>NaN</td>\n",
       "      <td>NaN</td>\n",
       "      <td>NaN</td>\n",
       "      <td>NaN</td>\n",
       "      <td>NaN</td>\n",
       "      <td>0.0</td>\n",
       "    </tr>\n",
       "  </tbody>\n",
       "</table>\n",
       "<p>104 rows × 7 columns</p>\n",
       "</div>"
      ],
      "text/plain": [
       "                    Name                Team Position Height  Weight  \\\n",
       "23         Blake Griffin      Boston Celtics        F    6-9   250.0   \n",
       "26     Mfiondu Kabengele      Boston Celtics        C   6-10   250.0   \n",
       "28        Svi Mykhailiuk      Boston Celtics      G-F    6-7   205.0   \n",
       "35   Robert Williams III      Boston Celtics      C-F    6-9   237.0   \n",
       "39           Nic Claxton       Brooklyn Nets        C   6-11   215.0   \n",
       "..                   ...                 ...      ...    ...     ...   \n",
       "547       Gary Trent Jr.     Toronto Raptors      G-F    6-5   209.0   \n",
       "578           Taj Gibson  Washington Wizards        F    6-9   232.0   \n",
       "584        Kendrick Nunn  Washington Wizards        G    6-3   190.0   \n",
       "589     Tristan Vukcevic  Washington Wizards        F   6-10   220.0   \n",
       "591                  NaN                 NaN      NaN    NaN     NaN   \n",
       "\n",
       "                 College  Salary  \n",
       "23              Oklahoma     0.0  \n",
       "26         Florida State     0.0  \n",
       "28                Kansas     0.0  \n",
       "35             Texas A&M     0.0  \n",
       "39               Georgia     0.0  \n",
       "..                   ...     ...  \n",
       "547                 Duke     0.0  \n",
       "578  Southern California     0.0  \n",
       "584              Oakland     0.0  \n",
       "589          Real Madrid     0.0  \n",
       "591                  NaN     0.0  \n",
       "\n",
       "[104 rows x 7 columns]"
      ]
     },
     "execution_count": 6,
     "metadata": {},
     "output_type": "execute_result"
    }
   ],
   "source": [
    "nba = pd.read_csv('../../Files/nba.csv')\n",
    "nba[\"Salary\"] = nba[\"Salary\"].fillna(0)\n",
    "nba[nba[\"Salary\"] == 0]"
   ]
  },
  {
   "cell_type": "code",
   "execution_count": 8,
   "id": "00e5577f",
   "metadata": {},
   "outputs": [
    {
     "data": {
      "text/plain": [
       "Name         object\n",
       "Team         object\n",
       "Position     object\n",
       "Height       object\n",
       "Weight      float64\n",
       "College      object\n",
       "Salary      float64\n",
       "dtype: object"
      ]
     },
     "execution_count": 8,
     "metadata": {},
     "output_type": "execute_result"
    }
   ],
   "source": [
    "nba.dtypes"
   ]
  },
  {
   "cell_type": "code",
   "execution_count": 13,
   "id": "18a0e627",
   "metadata": {},
   "outputs": [
    {
     "data": {
      "text/plain": [
       "Name         object\n",
       "Team         object\n",
       "Position     object\n",
       "Height       object\n",
       "Weight      float64\n",
       "College      object\n",
       "Salary        int64\n",
       "dtype: object"
      ]
     },
     "execution_count": 13,
     "metadata": {},
     "output_type": "execute_result"
    }
   ],
   "source": [
    "nba[\"Salary\"] = nba[\"Salary\"].astype('int')\n",
    "nba.dtypes"
   ]
  },
  {
   "cell_type": "code",
   "execution_count": 19,
   "id": "b2ec9982",
   "metadata": {},
   "outputs": [
    {
     "data": {
      "text/plain": [
       "Name        object\n",
       "Team        object\n",
       "Position    object\n",
       "Height      object\n",
       "Weight       int64\n",
       "College     object\n",
       "Salary       int64\n",
       "dtype: object"
      ]
     },
     "execution_count": 19,
     "metadata": {},
     "output_type": "execute_result"
    }
   ],
   "source": [
    "nba[\"Weight\"] = nba[\"Weight\"]\\\n",
    "    .fillna(0)\\\n",
    "    .astype(int)\n",
    "nba.dtypes"
   ]
  },
  {
   "cell_type": "code",
   "execution_count": null,
   "id": "8c7293f4",
   "metadata": {},
   "outputs": [],
   "source": []
  }
 ],
 "metadata": {
  "kernelspec": {
   "display_name": "Python 3",
   "language": "python",
   "name": "python3"
  },
  "language_info": {
   "codemirror_mode": {
    "name": "ipython",
    "version": 3
   },
   "file_extension": ".py",
   "mimetype": "text/x-python",
   "name": "python",
   "nbconvert_exporter": "python",
   "pygments_lexer": "ipython3",
   "version": "3.9.6"
  }
 },
 "nbformat": 4,
 "nbformat_minor": 5
}
